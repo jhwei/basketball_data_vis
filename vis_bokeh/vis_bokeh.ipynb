{
 "cells": [
  {
   "cell_type": "code",
   "execution_count": 2,
   "metadata": {
    "collapsed": false,
    "deletable": true,
    "editable": true
   },
   "outputs": [],
   "source": [
    "import json"
   ]
  },
  {
   "cell_type": "code",
   "execution_count": 3,
   "metadata": {
    "collapsed": false,
    "deletable": true,
    "editable": true
   },
   "outputs": [],
   "source": [
    "with open('kobe.json', 'r') as f:\n",
    "    data = json.load(f)\n",
    "kobe=json.loads(data)"
   ]
  },
  {
   "cell_type": "code",
   "execution_count": 4,
   "metadata": {
    "collapsed": false,
    "deletable": true,
    "editable": true,
    "scrolled": true
   },
   "outputs": [],
   "source": [
    "from bokeh.plotting import figure, output_file,curdoc\n",
    "from bokeh.io import output_notebook,show\n",
    "from bokeh.layouts import widgetbox,row,column\n",
    "from bokeh.models.widgets import Button, RadioButtonGroup, Select, Slider,RadioGroup\n",
    "from bokeh.colors import RGB\n",
    "from bokeh.models import HoverTool,ColumnDataSource\n",
    "from bokeh.embed import file_html"
   ]
  },
  {
   "cell_type": "code",
   "execution_count": 7,
   "metadata": {
    "collapsed": false,
    "deletable": true,
    "editable": true
   },
   "outputs": [
    {
     "name": "stderr",
     "output_type": "stream",
     "text": [
      "/usr/local/lib/python2.7/dist-packages/bokeh/models/sources.py:81: BokehUserWarning: ColumnDataSource's columns must be of the same length\n",
      "  lambda: warnings.warn(\"ColumnDataSource's columns must be of the same length\", BokehUserWarning))\n",
      "INFO:bokeh.core.state:Session output file 'test.html' already exists, will be overwritten.\n"
     ]
    }
   ],
   "source": [
    "shot_hover = HoverTool(tooltips=[(\"Shot Made:\", \"@made\"),],names=['shot'])\n",
    "\n",
    "line_hover = HoverTool(tooltips=[('Year:','@season'),('Num:','@y'),],names=['line'])\n",
    "\n",
    "hex_item=ColumnDataSource(kobe['hex_item']['2006-07'])\n",
    "\n",
    "prop=ColumnDataSource(dict(x=[i for i in range(1996,2015)],y=kobe['plus&minus'],season=kobe['season_list']))\n",
    "\n",
    "point=ColumnDataSource(dict(x=[1996],y=[prop.data['y'][0]]))\n",
    "\n",
    "def update_shot(attr,old,new):\n",
    "    season=kobe['season_list'][int(year_slide.value)-1996]\n",
    "    hex_item.data=(kobe['hex_item'][season])\n",
    "    prop.data['y']=kobe[prop_select.value]\n",
    "    point.data=dict(x=[int(year_slide.value)],y=[prop.data['y'][int(year_slide.value)-1996]])\n",
    "\n",
    "prop_select = Select(title=\"Property\", value=\"plus&minus\", options=['plus&minus','%PTS','%FGA','min_ave','min_total'])\n",
    "prop_select.on_change('value',update_shot)\n",
    "\n",
    "year_slide=Slider(start=1996, end=2015, value=1996, step=1, title=\"Year\")\n",
    "year_slide.on_change('value',update_shot)\n",
    "\n",
    "shot_type = RadioGroup(labels=[\"Every Shot\", \"Heat Map\"], active=1)\n",
    "control=widgetbox([shot_type,year_slide])#,prop_select])\n",
    "#= RadioGroup(labels=[\"Every Shot\", \"Heat Map\"], active=1)\n",
    "\n",
    "p = figure(plot_width=900, plot_height=840,x_axis_location=None, y_axis_location=None,tools=[shot_hover])\n",
    "p.background_fill_color = \"#ffffff\"\n",
    "p.xgrid.grid_line_color = None\n",
    "p.ygrid.grid_line_color = None\n",
    "p.outline_line_color = \"white\"\n",
    "# add a circle renderer with a size, color, and alpha\n",
    "#plot.Circle(x=0, y=0, size=7.5, line_color=\"#3288Bd\", fill_color=\"white\", line_width=2)\n",
    "p.circle(x=0,y=0,radius=7.5,line_width=2,fill_color=\"white\",line_color='black',fill_alpha=0)\n",
    "\n",
    "p.line(x=[-30,30], y=[-7.5,-7.5], line_width=2, color=\"black\")\n",
    "\n",
    "    # Create the outer box 0f the paint, width=16ft, height=19ft\n",
    "p.rect(x=0,y= 47.5, width=160,height= 190, line_width=2, color=\"black\",fill_alpha=0)\n",
    "    # Create the inner box of the paint, widt=12ft, height=19ft\n",
    "p.rect(x=0, y=47.5, width=120,height= 190, line_width=2, color=\"black\",fill_alpha=0)\n",
    "\n",
    "p.arc(x=0, y=142.5, radius=60, start_angle=0, end_angle=3.14,line_width=2, color=\"black\")\n",
    "\n",
    "p.arc(x=0, y=142.5, radius=60, start_angle=3.14, end_angle=0,line_width=2, color=\"black\",line_dash=\"dashed\")\n",
    "\n",
    "    # Restricted Zone, it is an arc with 4ft radius from center of the hoop\n",
    "p.arc(x=0, y=0, radius=40, start_angle=0, end_angle=3.14,line_width=2, color=\"black\")\n",
    "\n",
    "p.line(x=[-220,-220], y=[-47.5,85], line_width=2, color=\"black\")\n",
    "\n",
    "p.line(x=[220,220], y=[-47.5,85], line_width=2, color=\"black\")\n",
    "\n",
    "p.arc(x=0, y=0, radius=237.7,start_angle=23.0/180*3.14, end_angle=158.0/180*3.14,line_width=2, color=\"black\")\n",
    "               \n",
    "    # Center Court\n",
    "p.arc(x=0, y=422.5, radius=60, start_angle=3.14, end_angle=0,line_width=2, color=\"black\")\n",
    "\n",
    "p.arc(x=0, y=422.5, radius=20, start_angle=3.14, end_angle=0,line_width=2, color=\"black\")\n",
    "\n",
    "p.rect(x=0, y=187.5, width=500, height=470, line_width=2, color=\"black\",fill_alpha=0)\n",
    "\n",
    "p.patches(xs=\"x_loc\",ys=\"y_loc\",line_color=\"colors\",fill_color=\"colors\",source=hex_item,name=\"shot\")\n",
    "\n",
    "l = figure(plot_width=800, plot_height=500,tools=[line_hover],title='Property')\n",
    "\n",
    "l.line('x','y',source=prop,line_width=2,name='line',line_color='grey')\n",
    "l.circle('x','y',source=point,size=8)\n",
    "right=column(control)#,l)\n",
    "lay_out=row(p,right)\n",
    "\n",
    "curdoc().add_root(lay_out)\n",
    "\n",
    "output_file('test.html')\n",
    "show(lay_out)"
   ]
  }
 ],
 "metadata": {
  "kernelspec": {
   "display_name": "Python 2",
   "language": "python",
   "name": "python2"
  },
  "language_info": {
   "codemirror_mode": {
    "name": "ipython",
    "version": 2
   },
   "file_extension": ".py",
   "mimetype": "text/x-python",
   "name": "python",
   "nbconvert_exporter": "python",
   "pygments_lexer": "ipython2",
   "version": "2.7.12"
  }
 },
 "nbformat": 4,
 "nbformat_minor": 2
}
