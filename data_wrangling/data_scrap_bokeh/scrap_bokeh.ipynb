{
 "cells": [
  {
   "cell_type": "code",
   "execution_count": 1,
   "metadata": {
    "collapsed": true,
    "deletable": true,
    "editable": true
   },
   "outputs": [],
   "source": [
    "import json\n",
    "import requests\n",
    "import pandas as pd\n",
    "import time"
   ]
  },
  {
   "cell_type": "code",
   "execution_count": 2,
   "metadata": {
    "collapsed": true,
    "deletable": true,
    "editable": true
   },
   "outputs": [],
   "source": [
    "kobe={}\n",
    "kobe[\"shot\"]={}\n",
    "kobe[\"season_list\"]=[\"1996-97\",\"1997-98\",\"1998-99\",\"1999-00\",\"2000-01\",\"2001-02\",\"2002-03\",\"2003-04\",\n",
    "                     \"2004-05\",\"2005-06\",\"2006-07\",\"2007-08\",\"2008-09\",\"2009-10\",\"2010-11\",\"2011-12\",\n",
    "                    \"2012-13\",\"2013-14\",\"2014-15\",\"2015-16\"]"
   ]
  },
  {
   "cell_type": "code",
   "execution_count": null,
   "metadata": {
    "collapsed": false,
    "deletable": true,
    "editable": true
   },
   "outputs": [],
   "source": [
    "kobe[\"plus&minus\"]=[0.8, 3.3, 1.8, 8, 5.4, 5.6, 3.2, 4.8, -1.8, 4, 1.3, 7.3, 8, 6.4, 5.1, 2.4, 1.8, -5.3, -8.4, -8.7]\n",
    "kobe[\"%PTS\"]=[23.9, 27, 25.8, 27.5, 32.7, 30.9, 34.5, 30.3, 32.5, 40.5, 35.9, 31.8, 32.6, 32.2, 34.8, 35.6, 32.6, 23.4, 31.5, 30.4]\n",
    "kobe[\"%FGA\"]=[23, 26.8, 25.3, 26.7, 31.9, 30.2, 32.7, 28.4, 29.4, 39.3, 33.3, 30.6, 32.7, 32.1, 34.6, 36.2, 31.4, 25.1, 32.9, 33.1]\n",
    "kobe[\"min_ave\"]=[7.6, 15.4, 19.9, 22.5, 28.5, 25.2, 30, 24, 27.6, 35.4, 31.6, 28.3, 26.8, 27, 25.3, 27.9, 27.3, 13.8, 22.3, 17.6]\n",
    "kobe[\"min_total\"]=[1145, 2058, 1894, 2523, 2791, 3065, 3404, 2447, 2690, 3277, 3140, 3192, 2961, 2836, 2778, 2232, 3013, 177, 1207, 1863]"
   ]
  },
  {
   "cell_type": "code",
   "execution_count": 3,
   "metadata": {
    "collapsed": false,
    "deletable": true,
    "editable": true
   },
   "outputs": [],
   "source": [
    "url_list=[]\n",
    "for item in kobe[\"season_list\"]:\n",
    "    url='http://stats.nba.com/stats/shotchartdetail?Period=0&VsConference=&LeagueID=00&LastNGames=0&TeamID=0&Position=&Location=&Outcome=&ContextMeasure=FGA&DateFrom=&StartPeriod=&DateTo=&OpponentTeamID=0&ContextFilter=&RangeType=&Season='+item+'&AheadBehind=&PlayerID=977&EndRange=&VsDivision=&PointDiff=&RookieYear=&GameSegment=&Month=0&ClutchTime=&StartRange=&EndPeriod=&SeasonType=Regular+Season&SeasonSegment=&GameID=&PlayerPosition='\n",
    "    url_list.append(url)\n",
    "shot_chart_url = 'http://stats.nba.com/stats/shotchartdetail?Period=0&VsConference=&LeagueID=00&LastNGames=0&TeamID=0&Position=&Location=&Outcome=&ContextMeasure=FGA&DateFrom=&StartPeriod=&DateTo=&OpponentTeamID=0&ContextFilter=&RangeType=&Season=2014-15&AheadBehind=&PlayerID=977&EndRange=&VsDivision=&PointDiff=&RookieYear=&GameSegment=&Month=0&ClutchTime=&StartRange=&EndPeriod=&SeasonType=Regular+Season&SeasonSegment=&GameID=&PlayerPosition='\n",
    "\n",
    "# Get the webpage containing the data\n",
    "header = requests.utils.default_headers()\n",
    "header.update(\n",
    "    {\n",
    "        'User-Agent': 'Mozilla/5.0 (X11; Linux x86_64) AppleWebKit/537.36 (KHTML, like Gecko) Chrome/56.0.2924.87 Safari/537.36',\n",
    "    }\n",
    ")"
   ]
  },
  {
   "cell_type": "code",
   "execution_count": 4,
   "metadata": {
    "collapsed": false,
    "deletable": true,
    "editable": true
   },
   "outputs": [],
   "source": [
    "response = requests.get(url_list[-4],headers=header)\n",
    "    # Grab the headers to be used as column headers for our DataFrame\n",
    "headers = response.json()['resultSets'][0]['headers']\n",
    "    # Grab the shot chart data\n",
    "shots = response.json()['resultSets'][0]['rowSet']\n",
    "\n",
    "shot_df = pd.DataFrame(shots, columns=headers)"
   ]
  },
  {
   "cell_type": "code",
   "execution_count": 12,
   "metadata": {
    "collapsed": false,
    "deletable": true,
    "editable": true
   },
   "outputs": [
    {
     "name": "stdout",
     "output_type": "stream",
     "text": [
      "697\n"
     ]
    }
   ],
   "source": [
    "print max(shot_df['LOC_Y'])\n"
   ]
  },
  {
   "cell_type": "code",
   "execution_count": null,
   "metadata": {
    "collapsed": false,
    "deletable": true,
    "editable": true,
    "scrolled": true
   },
   "outputs": [],
   "source": [
    "column_list=['ACTION_TYPE','LOC_X','LOC_Y','SHOT_MADE_FLAG']\n",
    "\n",
    "for index in range(len(url_list)):\n",
    "    response = requests.get(url_list[index],headers=header)\n",
    "    # Grab the headers to be used as column headers for our DataFrame\n",
    "    headers = response.json()['resultSets'][0]['headers']\n",
    "    # Grab the shot chart data\n",
    "    shots = response.json()['resultSets'][0]['rowSet']\n",
    "\n",
    "    shot_df = pd.DataFrame(shots, columns=headers)\n",
    "    for col_name in shot_df.columns:\n",
    "        if not col_name in column_list:\n",
    "            del shot_df[col_name]\n",
    "    kobe['shot'][kobe['season_list'][index]]=shot_df.to_json()\n",
    "    time.sleep(1)"
   ]
  },
  {
   "cell_type": "code",
   "execution_count": null,
   "metadata": {
    "collapsed": false,
    "deletable": true,
    "editable": true
   },
   "outputs": [],
   "source": [
    "json_str=json.dumps(kobe)\n",
    "with open('data.json', 'w') as f:\n",
    "    json.dump(json_str, f)"
   ]
  }
 ],
 "metadata": {
  "kernelspec": {
   "display_name": "Python 2",
   "language": "python",
   "name": "python2"
  },
  "language_info": {
   "codemirror_mode": {
    "name": "ipython",
    "version": 2
   },
   "file_extension": ".py",
   "mimetype": "text/x-python",
   "name": "python",
   "nbconvert_exporter": "python",
   "pygments_lexer": "ipython2",
   "version": "2.7.12"
  }
 },
 "nbformat": 4,
 "nbformat_minor": 2
}
