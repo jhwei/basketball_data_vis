{
 "cells": [
  {
   "cell_type": "code",
   "execution_count": 1,
   "metadata": {
    "collapsed": true,
    "deletable": true,
    "editable": true
   },
   "outputs": [],
   "source": [
    "import json\n",
    "import requests\n",
    "import pandas as pd\n",
    "import time"
   ]
  },
  {
   "cell_type": "code",
   "execution_count": 2,
   "metadata": {
    "collapsed": false,
    "deletable": true,
    "editable": true
   },
   "outputs": [],
   "source": [
    "kobe={}\n",
    "kobe[\"shot_loc\"]={}\n",
    "kobe[\"shot_stat\"]={}\n",
    "kobe[\"season_list\"]=[\"1996-97\",\"1997-98\",\"1998-99\",\"1999-00\",\"2000-01\",\"2001-02\",\"2002-03\",\"2003-04\",\n",
    "                     \"2004-05\",\"2005-06\",\"2006-07\",\"2007-08\",\"2008-09\",\"2009-10\",\"2010-11\",\"2011-12\",\n",
    "                    \"2012-13\",\"2013-14\",\"2014-15\",\"2015-16\"]\n",
    "#kobe[\"playoff\"]=[]\n",
    "#kobe[\"teammate\"]={}\n",
    "#kobe[\"champion\"]={}"
   ]
  },
  {
   "cell_type": "code",
   "execution_count": null,
   "metadata": {
    "collapsed": true,
    "deletable": true,
    "editable": true
   },
   "outputs": [],
   "source": [
    "#kobe[\"teammate\"]=[\"\"]"
   ]
  },
  {
   "cell_type": "code",
   "execution_count": 3,
   "metadata": {
    "collapsed": true,
    "deletable": true,
    "editable": true
   },
   "outputs": [],
   "source": [
    "url_list=[]\n",
    "for item in kobe[\"season_list\"]:\n",
    "    url='http://stats.nba.com/stats/shotchartdetail?Period=0&VsConference=&LeagueID=00&LastNGames=0&TeamID=0&Position=&Location=&Outcome=&ContextMeasure=FGA&DateFrom=&StartPeriod=&DateTo=&OpponentTeamID=0&ContextFilter=&RangeType=&Season='+item+'&AheadBehind=&PlayerID=977&EndRange=&VsDivision=&PointDiff=&RookieYear=&GameSegment=&Month=0&ClutchTime=&StartRange=&EndPeriod=&SeasonType=Regular+Season&SeasonSegment=&GameID=&PlayerPosition='\n",
    "    url_list.append(url)\n",
    "shot_chart_url = 'http://stats.nba.com/stats/shotchartdetail?Period=0&VsConference=&LeagueID=00&LastNGames=0&TeamID=0&Position=&Location=&Outcome=&ContextMeasure=FGA&DateFrom=&StartPeriod=&DateTo=&OpponentTeamID=0&ContextFilter=&RangeType=&Season=2014-15&AheadBehind=&PlayerID=977&EndRange=&VsDivision=&PointDiff=&RookieYear=&GameSegment=&Month=0&ClutchTime=&StartRange=&EndPeriod=&SeasonType=Regular+Season&SeasonSegment=&GameID=&PlayerPosition='\n",
    "\n",
    "# Get the webpage containing the data\n",
    "header = requests.utils.default_headers()\n",
    "header.update(\n",
    "    {\n",
    "        'User-Agent': 'Mozilla/5.0 (X11; Linux x86_64) AppleWebKit/537.36 (KHTML, like Gecko) Chrome/56.0.2924.87 Safari/537.36',\n",
    "    }\n",
    ")"
   ]
  },
  {
   "cell_type": "code",
   "execution_count": 4,
   "metadata": {
    "collapsed": false,
    "deletable": true,
    "editable": true
   },
   "outputs": [],
   "source": [
    "for index in range(len(url_list)):\n",
    "    response = requests.get(url_list[index],headers=header)\n",
    "    # Grab the headers to be used as column headers for our DataFrame\n",
    "    headers = response.json()['resultSets'][0]['headers']\n",
    "    # Grab the shot chart data\n",
    "    shots = response.json()['resultSets'][0]['rowSet']\n",
    "    \n",
    "    shot_df = pd.DataFrame(shots, columns=headers)\n",
    "    \n",
    "    kobe['shot_loc'][kobe['season_list'][index]]=[]\n",
    "    shot_att=[0 for _ in range(31)]\n",
    "    shot_made=[0 for _ in range(31)]\n",
    "    kobe[\"shot_stat\"][kobe['season_list'][index]]=[]\n",
    "    \n",
    "    for j in range(len(shot_df)):\n",
    "        if shot_df['SHOT_DISTANCE'][j]>30:\n",
    "            continue\n",
    "        shot_loc={}\n",
    "        shot_loc['x']=(shot_df['LOC_X'][j]+250)/10.0\n",
    "        shot_loc['y']=(shot_df['LOC_Y'][j]+47.5)/10.0\n",
    "\n",
    "#        shot_loc['action_type']=shot_df['SHOT_TYPE'][j].encode('utf8')[:4]+shot_df['ACTION_TYPE'][j].encode('utf8')\n",
    "        shot_loc['shot_distance']=shot_df['SHOT_DISTANCE'][j]\n",
    "        shot_loc['shot_made_flag']=shot_df['SHOT_MADE_FLAG'][j]\n",
    "        kobe['shot_loc'][kobe['season_list'][index]].append(shot_loc)\n",
    "        if shot_df['SHOT_DISTANCE'][j]<31:\n",
    "            shot_att[shot_df['SHOT_DISTANCE'][j]]+=1\n",
    "            if shot_df['SHOT_MADE_FLAG'][j]==1:\n",
    "                shot_made[shot_df['SHOT_DISTANCE'][j]]+=1\n",
    "                \n",
    "    for j in range(len(shot_att)):\n",
    "        shot_stat={}\n",
    "        shot_stat['dis']=j\n",
    "        shot_stat['freq']=1.0*shot_att[j]/sum(shot_att)\n",
    " \n",
    "        if shot_att[j]>0:\n",
    "            shot_stat['percentage']=1.0*shot_made[j]/shot_att[j]\n",
    "        else:\n",
    "            shot_stat['percentage']=0.0        \n",
    "        kobe[\"shot_stat\"][kobe['season_list'][index]].append(shot_stat)\n",
    "        \n",
    "    time.sleep(1)"
   ]
  },
  {
   "cell_type": "code",
   "execution_count": 5,
   "metadata": {
    "collapsed": false,
    "deletable": true,
    "editable": true
   },
   "outputs": [],
   "source": [
    "json_str=json.dumps(kobe)\n",
    "with open('test.json', 'w') as f:\n",
    "    json.dump(json_str, f)"
   ]
  },
  {
   "cell_type": "code",
   "execution_count": 6,
   "metadata": {
    "collapsed": false,
    "deletable": true,
    "editable": true
   },
   "outputs": [],
   "source": [
    "for item in kobe[\"shot_loc\"]:\n",
    "    for loc in kobe[\"shot_loc\"][item]:\n",
    "        if loc[\"shot_distance\"]>30:\n",
    "            print loc[\"shot_distance\"]"
   ]
  }
 ],
 "metadata": {
  "kernelspec": {
   "display_name": "Python 2",
   "language": "python",
   "name": "python2"
  },
  "language_info": {
   "codemirror_mode": {
    "name": "ipython",
    "version": 2
   },
   "file_extension": ".py",
   "mimetype": "text/x-python",
   "name": "python",
   "nbconvert_exporter": "python",
   "pygments_lexer": "ipython2",
   "version": "2.7.12"
  }
 },
 "nbformat": 4,
 "nbformat_minor": 2
}
